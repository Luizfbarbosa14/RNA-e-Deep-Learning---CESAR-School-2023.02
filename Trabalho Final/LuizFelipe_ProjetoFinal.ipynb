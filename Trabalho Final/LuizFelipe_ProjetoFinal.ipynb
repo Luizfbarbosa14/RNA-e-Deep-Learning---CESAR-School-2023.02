{
  "cells": [
    {
      "cell_type": "markdown",
      "metadata": {
        "id": "sulShD5y4K7V"
      },
      "source": [
        "# Projeto final - Redes Neurais\n",
        "Aluno: Luiz Felipe Barbosa\n",
        "\n",
        "\n",
        "Dataset escolhido: https://www.kaggle.com/datasets/mloey1/ahcd1"
      ]
    },
    {
      "cell_type": "markdown",
      "metadata": {
        "id": "mALEfpx54K7d"
      },
      "source": [
        "## Importação das bibliotecas"
      ]
    },
    {
      "cell_type": "code",
      "execution_count": 9,
      "metadata": {
        "id": "aOn4IXXnGRBg"
      },
      "outputs": [],
      "source": [
        "from os.path import exists\n",
        "\n",
        "import pandas as pd\n",
        "import numpy as np\n",
        "\n",
        "import torch"
      ]
    },
    {
      "cell_type": "code",
      "execution_count": 2,
      "metadata": {
        "id": "WN69WSbu4K7f"
      },
      "outputs": [],
      "source": [
        "import argparse\n",
        "import torch\n",
        "import torch.nn as nn\n",
        "import torch.nn.functional as F\n",
        "import torch.optim as optim\n",
        "from torch.autograd import Variable\n",
        "from torchvision import datasets, transforms\n",
        "from torch.optim.lr_scheduler import StepLR\n",
        "from torch.utils.data import Dataset, DataLoader"
      ]
    },
    {
      "cell_type": "markdown",
      "metadata": {
        "id": "4T8iS1Jc4K7q"
      },
      "source": [
        "## Criação da rede"
      ]
    },
    {
      "cell_type": "code",
      "execution_count": 3,
      "metadata": {
        "id": "RUi00oew4K7q"
      },
      "outputs": [],
      "source": [
        "class Modelo(nn.Module):\n",
        "    def __init__(self):\n",
        "        super(Modelo, self).__init__()\n",
        "        self.dense = nn.Sequential(\n",
        "            nn.Linear(1024, 4096),\n",
        "            nn.ReLU(),\n",
        "            nn.Linear(4096, 2096),\n",
        "            nn.ReLU(),\n",
        "            nn.Linear(2096, 1024),\n",
        "            nn.ReLU(),\n",
        "            nn.Linear(1024, 1024),\n",
        "            nn.ReLU(),\n",
        "            nn.Linear(1024, 512),\n",
        "            nn.ReLU(),\n",
        "            nn.Linear(512, 29),\n",
        "        )\n",
        "\n",
        "    def forward(self, x):\n",
        "        x = self.dense(x)\n",
        "\n",
        "        return x\n",
        "\n",
        "model = Modelo()"
      ]
    },
    {
      "cell_type": "markdown",
      "source": [
        "## Criação da base de dados"
      ],
      "metadata": {
        "id": "leAcpwCLqN_b"
      }
    },
    {
      "cell_type": "code",
      "source": [
        "class CustomDataset(Dataset):\n",
        "    def __init__(self, data, labels, transform=None):\n",
        "        self.data = torch.tensor(data.values, dtype=torch.float32)\n",
        "        self.labels = torch.tensor(labels.values.squeeze(), dtype=torch.long)\n",
        "        self.transform = transform\n",
        "\n",
        "    def __len__(self):\n",
        "        return len(self.data)\n",
        "\n",
        "    def __getitem__(self, idx):\n",
        "        sample = self.data[idx]\n",
        "        label = self.labels[idx]\n",
        "        if self.transform:\n",
        "            sample = self.transform(sample)\n",
        "        return sample, label"
      ],
      "metadata": {
        "id": "3BvbmiB9qLGU"
      },
      "execution_count": 4,
      "outputs": []
    },
    {
      "cell_type": "markdown",
      "metadata": {
        "id": "2cqllMDO4K7y"
      },
      "source": [
        "### Criando o objeto de treinamento"
      ]
    },
    {
      "cell_type": "code",
      "execution_count": 5,
      "metadata": {
        "id": "OAEOQoZy4K72"
      },
      "outputs": [],
      "source": [
        "def train(log_interval, dry_run, model, device, train_loader, optimizer, epoch):\n",
        "    model.train()\n",
        "    for batch_idx, (data, target) in enumerate(train_loader):\n",
        "        data, target = data.to(device), target.to(device)\n",
        "        optimizer.zero_grad()\n",
        "        output = model(Variable(data))\n",
        "        loss = F.cross_entropy(output, target)\n",
        "        loss.backward()\n",
        "        optimizer.step()\n",
        "        if batch_idx % log_interval == 0:\n",
        "            print('Train Epoch: {} [{}/{} ({:.0f}%)]\\tLoss: {:.6f}'.format(\n",
        "                epoch, batch_idx * len(data), len(train_loader.dataset),\n",
        "                100. * batch_idx / len(train_loader), loss.item()))\n",
        "            if dry_run:\n",
        "                break"
      ]
    },
    {
      "cell_type": "code",
      "execution_count": 6,
      "metadata": {
        "id": "eE6DjiKK4K76"
      },
      "outputs": [],
      "source": [
        "def test(model, device, test_loader):\n",
        "    model.eval()\n",
        "    test_loss = 0\n",
        "    correct = 0\n",
        "    with torch.no_grad():\n",
        "        for data, target in test_loader:\n",
        "            data, target = data.to(device), target.to(device)\n",
        "            output = model(data)\n",
        "            test_loss += F.nll_loss(output, target, reduction='sum').item()  # sum up batch loss\n",
        "            pred = output.argmax(dim=1, keepdim=True)  # get the index of the max log-probability\n",
        "            correct += pred.eq(target.view_as(pred)).sum().item()\n",
        "\n",
        "    test_loss /= len(test_loader.dataset)\n",
        "\n",
        "    print('\\nTest set: Average loss: {:.4f}, Accuracy: {}/{} ({:.0f}%)\\n'.format(\n",
        "        test_loss, correct, len(test_loader.dataset),\n",
        "        100. * correct / len(test_loader.dataset)))"
      ]
    },
    {
      "cell_type": "markdown",
      "source": [
        "Classe p"
      ],
      "metadata": {
        "id": "a6utaAzB33C9"
      }
    },
    {
      "cell_type": "markdown",
      "metadata": {
        "id": "kxdm4FTK4K8E"
      },
      "source": [
        "## Avaliação"
      ]
    },
    {
      "cell_type": "markdown",
      "source": [
        "Lendo os excel com os datasets"
      ],
      "metadata": {
        "id": "pJTsAf-yxxCy"
      }
    },
    {
      "cell_type": "code",
      "source": [
        "x_test = pd.read_csv('/content/csvTestImages_3360x1024.csv', header=None)\n",
        "y_test = pd.read_csv('/content/csvTestLabel_3360x1.csv', header=None)\n",
        "\n",
        "x_train = pd.read_csv('/content/csvTrainImages_13440x1024.csv', header=None)\n",
        "y_train = pd.read_csv('/content/csvTrainLabel_13440x1.csv', header=None)"
      ],
      "metadata": {
        "id": "cY_BpxVQlQxC"
      },
      "execution_count": 7,
      "outputs": []
    },
    {
      "cell_type": "markdown",
      "source": [
        "Treinamento"
      ],
      "metadata": {
        "id": "9q-xNzLTxzsA"
      }
    },
    {
      "cell_type": "code",
      "execution_count": 8,
      "metadata": {
        "colab": {
          "base_uri": "https://localhost:8080/"
        },
        "id": "kgH7e25qb_-K",
        "outputId": "edfbbc6a-ac55-4788-ff46-aa86f021b61b"
      },
      "outputs": [
        {
          "output_type": "stream",
          "name": "stdout",
          "text": [
            "Train Epoch: 1 [0/13440 (0%)]\tLoss: 3.410023\n",
            "Train Epoch: 1 [1792/13440 (13%)]\tLoss: 3.199758\n",
            "Train Epoch: 1 [3584/13440 (27%)]\tLoss: 2.953127\n",
            "Train Epoch: 1 [5376/13440 (40%)]\tLoss: 3.024330\n",
            "Train Epoch: 1 [7168/13440 (53%)]\tLoss: 2.412758\n",
            "Train Epoch: 1 [8960/13440 (67%)]\tLoss: 2.392388\n",
            "Train Epoch: 1 [10752/13440 (80%)]\tLoss: 2.432570\n",
            "Train Epoch: 1 [12544/13440 (93%)]\tLoss: 2.397546\n",
            "\n",
            "Test set: Average loss: -2.7721, Accuracy: 969/3360 (29%)\n",
            "\n",
            "Train Epoch: 2 [0/13440 (0%)]\tLoss: 1.945932\n",
            "Train Epoch: 2 [1792/13440 (13%)]\tLoss: 1.616062\n",
            "Train Epoch: 2 [3584/13440 (27%)]\tLoss: 1.969296\n",
            "Train Epoch: 2 [5376/13440 (40%)]\tLoss: 1.636286\n",
            "Train Epoch: 2 [7168/13440 (53%)]\tLoss: 1.420312\n",
            "Train Epoch: 2 [8960/13440 (67%)]\tLoss: 1.498914\n",
            "Train Epoch: 2 [10752/13440 (80%)]\tLoss: 1.226803\n",
            "Train Epoch: 2 [12544/13440 (93%)]\tLoss: 1.687293\n",
            "\n",
            "Test set: Average loss: -4.1024, Accuracy: 1635/3360 (49%)\n",
            "\n",
            "Train Epoch: 3 [0/13440 (0%)]\tLoss: 1.345212\n",
            "Train Epoch: 3 [1792/13440 (13%)]\tLoss: 0.964846\n",
            "Train Epoch: 3 [3584/13440 (27%)]\tLoss: 0.999165\n",
            "Train Epoch: 3 [5376/13440 (40%)]\tLoss: 0.849081\n",
            "Train Epoch: 3 [7168/13440 (53%)]\tLoss: 0.741276\n",
            "Train Epoch: 3 [8960/13440 (67%)]\tLoss: 0.876850\n",
            "Train Epoch: 3 [10752/13440 (80%)]\tLoss: 0.837679\n",
            "Train Epoch: 3 [12544/13440 (93%)]\tLoss: 0.920979\n",
            "\n",
            "Test set: Average loss: -4.8633, Accuracy: 2089/3360 (62%)\n",
            "\n",
            "Train Epoch: 4 [0/13440 (0%)]\tLoss: 0.767949\n",
            "Train Epoch: 4 [1792/13440 (13%)]\tLoss: 0.485374\n",
            "Train Epoch: 4 [3584/13440 (27%)]\tLoss: 0.589632\n",
            "Train Epoch: 4 [5376/13440 (40%)]\tLoss: 0.519914\n",
            "Train Epoch: 4 [7168/13440 (53%)]\tLoss: 0.468504\n",
            "Train Epoch: 4 [8960/13440 (67%)]\tLoss: 0.739704\n",
            "Train Epoch: 4 [10752/13440 (80%)]\tLoss: 0.683995\n",
            "Train Epoch: 4 [12544/13440 (93%)]\tLoss: 0.798557\n",
            "\n",
            "Test set: Average loss: -5.1331, Accuracy: 2324/3360 (69%)\n",
            "\n",
            "Train Epoch: 5 [0/13440 (0%)]\tLoss: 0.498921\n",
            "Train Epoch: 5 [1792/13440 (13%)]\tLoss: 0.349123\n",
            "Train Epoch: 5 [3584/13440 (27%)]\tLoss: 0.243431\n",
            "Train Epoch: 5 [5376/13440 (40%)]\tLoss: 0.432072\n",
            "Train Epoch: 5 [7168/13440 (53%)]\tLoss: 0.299387\n",
            "Train Epoch: 5 [8960/13440 (67%)]\tLoss: 0.404437\n",
            "Train Epoch: 5 [10752/13440 (80%)]\tLoss: 0.297350\n",
            "Train Epoch: 5 [12544/13440 (93%)]\tLoss: 0.515018\n",
            "\n",
            "Test set: Average loss: -6.1038, Accuracy: 2501/3360 (74%)\n",
            "\n",
            "Train Epoch: 6 [0/13440 (0%)]\tLoss: 0.199941\n",
            "Train Epoch: 6 [1792/13440 (13%)]\tLoss: 0.131404\n",
            "Train Epoch: 6 [3584/13440 (27%)]\tLoss: 0.160043\n",
            "Train Epoch: 6 [5376/13440 (40%)]\tLoss: 0.111682\n",
            "Train Epoch: 6 [7168/13440 (53%)]\tLoss: 0.198056\n",
            "Train Epoch: 6 [8960/13440 (67%)]\tLoss: 0.199018\n",
            "Train Epoch: 6 [10752/13440 (80%)]\tLoss: 0.188701\n",
            "Train Epoch: 6 [12544/13440 (93%)]\tLoss: 0.174899\n",
            "\n",
            "Test set: Average loss: -7.3311, Accuracy: 2566/3360 (76%)\n",
            "\n",
            "Train Epoch: 7 [0/13440 (0%)]\tLoss: 0.119031\n",
            "Train Epoch: 7 [1792/13440 (13%)]\tLoss: 0.133622\n",
            "Train Epoch: 7 [3584/13440 (27%)]\tLoss: 0.099828\n",
            "Train Epoch: 7 [5376/13440 (40%)]\tLoss: 0.116808\n",
            "Train Epoch: 7 [7168/13440 (53%)]\tLoss: 0.085502\n",
            "Train Epoch: 7 [8960/13440 (67%)]\tLoss: 0.074708\n",
            "Train Epoch: 7 [10752/13440 (80%)]\tLoss: 0.082042\n",
            "Train Epoch: 7 [12544/13440 (93%)]\tLoss: 0.014821\n",
            "\n",
            "Test set: Average loss: -8.1858, Accuracy: 2606/3360 (78%)\n",
            "\n",
            "Train Epoch: 8 [0/13440 (0%)]\tLoss: 0.036485\n",
            "Train Epoch: 8 [1792/13440 (13%)]\tLoss: 0.052621\n",
            "Train Epoch: 8 [3584/13440 (27%)]\tLoss: 0.002556\n",
            "Train Epoch: 8 [5376/13440 (40%)]\tLoss: 0.013247\n",
            "Train Epoch: 8 [7168/13440 (53%)]\tLoss: 0.007960\n",
            "Train Epoch: 8 [8960/13440 (67%)]\tLoss: 0.040768\n",
            "Train Epoch: 8 [10752/13440 (80%)]\tLoss: 0.137026\n",
            "Train Epoch: 8 [12544/13440 (93%)]\tLoss: 0.010759\n",
            "\n",
            "Test set: Average loss: -8.8244, Accuracy: 2626/3360 (78%)\n",
            "\n",
            "Train Epoch: 9 [0/13440 (0%)]\tLoss: 0.001915\n",
            "Train Epoch: 9 [1792/13440 (13%)]\tLoss: 0.002334\n",
            "Train Epoch: 9 [3584/13440 (27%)]\tLoss: 0.005667\n",
            "Train Epoch: 9 [5376/13440 (40%)]\tLoss: 0.006827\n",
            "Train Epoch: 9 [7168/13440 (53%)]\tLoss: 0.002948\n",
            "Train Epoch: 9 [8960/13440 (67%)]\tLoss: 0.001755\n",
            "Train Epoch: 9 [10752/13440 (80%)]\tLoss: 0.004532\n",
            "Train Epoch: 9 [12544/13440 (93%)]\tLoss: 0.005599\n",
            "\n",
            "Test set: Average loss: -9.3137, Accuracy: 2637/3360 (78%)\n",
            "\n",
            "Train Epoch: 10 [0/13440 (0%)]\tLoss: 0.001493\n",
            "Train Epoch: 10 [1792/13440 (13%)]\tLoss: 0.000623\n",
            "Train Epoch: 10 [3584/13440 (27%)]\tLoss: 0.001377\n",
            "Train Epoch: 10 [5376/13440 (40%)]\tLoss: 0.001599\n",
            "Train Epoch: 10 [7168/13440 (53%)]\tLoss: 0.001710\n",
            "Train Epoch: 10 [8960/13440 (67%)]\tLoss: 0.045960\n",
            "Train Epoch: 10 [10752/13440 (80%)]\tLoss: 0.001546\n",
            "Train Epoch: 10 [12544/13440 (93%)]\tLoss: 0.008731\n",
            "\n",
            "Test set: Average loss: -9.5726, Accuracy: 2628/3360 (78%)\n",
            "\n",
            "Train Epoch: 11 [0/13440 (0%)]\tLoss: 0.001756\n",
            "Train Epoch: 11 [1792/13440 (13%)]\tLoss: 0.001327\n",
            "Train Epoch: 11 [3584/13440 (27%)]\tLoss: 0.001250\n",
            "Train Epoch: 11 [5376/13440 (40%)]\tLoss: 0.000919\n",
            "Train Epoch: 11 [7168/13440 (53%)]\tLoss: 0.007866\n",
            "Train Epoch: 11 [8960/13440 (67%)]\tLoss: 0.001018\n",
            "Train Epoch: 11 [10752/13440 (80%)]\tLoss: 0.000628\n",
            "Train Epoch: 11 [12544/13440 (93%)]\tLoss: 0.002826\n",
            "\n",
            "Test set: Average loss: -9.7217, Accuracy: 2639/3360 (79%)\n",
            "\n",
            "Train Epoch: 12 [0/13440 (0%)]\tLoss: 0.003344\n",
            "Train Epoch: 12 [1792/13440 (13%)]\tLoss: 0.000355\n",
            "Train Epoch: 12 [3584/13440 (27%)]\tLoss: 0.000654\n",
            "Train Epoch: 12 [5376/13440 (40%)]\tLoss: 0.000788\n",
            "Train Epoch: 12 [7168/13440 (53%)]\tLoss: 0.000684\n",
            "Train Epoch: 12 [8960/13440 (67%)]\tLoss: 0.000772\n",
            "Train Epoch: 12 [10752/13440 (80%)]\tLoss: 0.008542\n",
            "Train Epoch: 12 [12544/13440 (93%)]\tLoss: 0.001112\n",
            "\n",
            "Test set: Average loss: -9.8333, Accuracy: 2633/3360 (78%)\n",
            "\n",
            "Train Epoch: 13 [0/13440 (0%)]\tLoss: 0.004462\n",
            "Train Epoch: 13 [1792/13440 (13%)]\tLoss: 0.000404\n",
            "Train Epoch: 13 [3584/13440 (27%)]\tLoss: 0.000605\n",
            "Train Epoch: 13 [5376/13440 (40%)]\tLoss: 0.000649\n",
            "Train Epoch: 13 [7168/13440 (53%)]\tLoss: 0.000937\n",
            "Train Epoch: 13 [8960/13440 (67%)]\tLoss: 0.000519\n",
            "Train Epoch: 13 [10752/13440 (80%)]\tLoss: 0.000955\n",
            "Train Epoch: 13 [12544/13440 (93%)]\tLoss: 0.001031\n",
            "\n",
            "Test set: Average loss: -9.9006, Accuracy: 2639/3360 (79%)\n",
            "\n",
            "Train Epoch: 14 [0/13440 (0%)]\tLoss: 0.001661\n",
            "Train Epoch: 14 [1792/13440 (13%)]\tLoss: 0.001465\n",
            "Train Epoch: 14 [3584/13440 (27%)]\tLoss: 0.000360\n",
            "Train Epoch: 14 [5376/13440 (40%)]\tLoss: 0.001366\n",
            "Train Epoch: 14 [7168/13440 (53%)]\tLoss: 0.002005\n",
            "Train Epoch: 14 [8960/13440 (67%)]\tLoss: 0.001012\n",
            "Train Epoch: 14 [10752/13440 (80%)]\tLoss: 0.000567\n",
            "Train Epoch: 14 [12544/13440 (93%)]\tLoss: 0.000942\n",
            "\n",
            "Test set: Average loss: -9.9412, Accuracy: 2634/3360 (78%)\n",
            "\n"
          ]
        }
      ],
      "source": [
        "use_cuda = torch.cuda.is_available()\n",
        "\n",
        "device = torch.device(\"cuda\" if use_cuda else \"cpu\")\n",
        "\n",
        "train_kwargs = {'batch_size': 64}\n",
        "test_kwargs = {'batch_size': 1000}\n",
        "if use_cuda:\n",
        "    cuda_kwargs = {'num_workers': 1,\n",
        "                    'pin_memory': True,\n",
        "                    'shuffle': True}\n",
        "    train_kwargs.update(cuda_kwargs)\n",
        "    test_kwargs.update(cuda_kwargs)\n",
        "\n",
        "transform=transforms.Compose([\n",
        "    transforms.ToTensor(),\n",
        "    transforms.Normalize((0.1307,), (0.3081,))\n",
        "    ])\n",
        "\n",
        "# Create custom datasets\n",
        "train_dataset = CustomDataset(x_train, y_train)\n",
        "test_dataset = CustomDataset(x_test, y_test)\n",
        "\n",
        "# Create DataLoaders\n",
        "train_loader = DataLoader(train_dataset, batch_size=train_kwargs['batch_size'], shuffle=True)\n",
        "test_loader = DataLoader(test_dataset, batch_size=test_kwargs['batch_size'], shuffle=True)\n",
        "\n",
        "model = Modelo().to(device)\n",
        "optimizer = optim.Adadelta(model.parameters(), lr=1)\n",
        "\n",
        "epochs = 14\n",
        "scheduler = StepLR(optimizer, step_size=1, gamma=0.7)\n",
        "\n",
        "for epoch in range(1, epochs + 1):\n",
        "    train(28, False, model, device, train_loader, optimizer, epoch)\n",
        "    test(model, device, test_loader)\n",
        "    scheduler.step()\n",
        "\n",
        "torch.save(model.state_dict(), \"arabic_modelo.pt\")"
      ]
    },
    {
      "cell_type": "markdown",
      "source": [
        "**Conclusão:**\n",
        "\n",
        "O projeto final consistiu na criação de uma rede neural para classificar 16.800 caracteres árabes escritos por 60 pessoas, distribuídos em 28 classes. Dos 16.800 caracteres, 13.440 foram utilizados para treino e 3.350 para teste.\n",
        "\n",
        "Utilizamos seis camadas lineares com a função de ativação ReLU entre elas. Além disso, utilizamos o otimizador Adadelta e a função de perda cross entropy. Usamos um batch de 64 para o treino e de 1.000 para o teste, ambos com shuffle, e um learning rate inicial de 1, que foi reduzido durante o treinamento ao longo de 14 épocas.\n",
        "\n",
        "A acurácia do modelo variou entre 78% e 79%, alcançando 79% na 13ª época e 78% na época final.\n",
        "\n",
        "\n"
      ],
      "metadata": {
        "id": "6wCDTp3xyBNY"
      }
    },
    {
      "cell_type": "code",
      "source": [],
      "metadata": {
        "id": "6z_xpcxoyH-Y"
      },
      "execution_count": null,
      "outputs": []
    }
  ],
  "metadata": {
    "colab": {
      "provenance": []
    },
    "kernelspec": {
      "display_name": "Python 3",
      "name": "python3"
    },
    "language_info": {
      "name": "python",
      "version": "3.10.2"
    },
    "vscode": {
      "interpreter": {
        "hash": "5fe3e6f0cdaab8afdc61c52912fda83f7c0a71baaea1897dd7498e2df01e69ec"
      }
    }
  },
  "nbformat": 4,
  "nbformat_minor": 0
}